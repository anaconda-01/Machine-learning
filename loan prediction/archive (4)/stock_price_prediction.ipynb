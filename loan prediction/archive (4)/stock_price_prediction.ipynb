{
 "cells": [
  {
   "cell_type": "code",
   "execution_count": 1,
   "metadata": {},
   "outputs": [],
   "source": [
    "import pandas as pd \n",
    "import numpy as np \n",
    "from sklearn import metrics \n",
    "import matplotlib. pyplot as plt"
   ]
  },
  {
   "cell_type": "code",
   "execution_count": 2,
   "metadata": {},
   "outputs": [
    {
     "data": {
      "text/html": [
       "<div>\n",
       "<style scoped>\n",
       "    .dataframe tbody tr th:only-of-type {\n",
       "        vertical-align: middle;\n",
       "    }\n",
       "\n",
       "    .dataframe tbody tr th {\n",
       "        vertical-align: top;\n",
       "    }\n",
       "\n",
       "    .dataframe thead th {\n",
       "        text-align: right;\n",
       "    }\n",
       "</style>\n",
       "<table border=\"1\" class=\"dataframe\">\n",
       "  <thead>\n",
       "    <tr style=\"text-align: right;\">\n",
       "      <th></th>\n",
       "      <th>date</th>\n",
       "      <th>open</th>\n",
       "      <th>high</th>\n",
       "      <th>low</th>\n",
       "      <th>close</th>\n",
       "      <th>volume</th>\n",
       "      <th>Name</th>\n",
       "    </tr>\n",
       "  </thead>\n",
       "  <tbody>\n",
       "    <tr>\n",
       "      <th>0</th>\n",
       "      <td>2013-02-08</td>\n",
       "      <td>45.07</td>\n",
       "      <td>45.35</td>\n",
       "      <td>45.00</td>\n",
       "      <td>45.08</td>\n",
       "      <td>1824755</td>\n",
       "      <td>A</td>\n",
       "    </tr>\n",
       "    <tr>\n",
       "      <th>1</th>\n",
       "      <td>2013-02-11</td>\n",
       "      <td>45.17</td>\n",
       "      <td>45.18</td>\n",
       "      <td>44.45</td>\n",
       "      <td>44.60</td>\n",
       "      <td>2915405</td>\n",
       "      <td>A</td>\n",
       "    </tr>\n",
       "    <tr>\n",
       "      <th>2</th>\n",
       "      <td>2013-02-12</td>\n",
       "      <td>44.81</td>\n",
       "      <td>44.95</td>\n",
       "      <td>44.50</td>\n",
       "      <td>44.62</td>\n",
       "      <td>2373731</td>\n",
       "      <td>A</td>\n",
       "    </tr>\n",
       "    <tr>\n",
       "      <th>3</th>\n",
       "      <td>2013-02-13</td>\n",
       "      <td>44.81</td>\n",
       "      <td>45.24</td>\n",
       "      <td>44.68</td>\n",
       "      <td>44.75</td>\n",
       "      <td>2052338</td>\n",
       "      <td>A</td>\n",
       "    </tr>\n",
       "    <tr>\n",
       "      <th>4</th>\n",
       "      <td>2013-02-14</td>\n",
       "      <td>44.72</td>\n",
       "      <td>44.78</td>\n",
       "      <td>44.36</td>\n",
       "      <td>44.58</td>\n",
       "      <td>3826245</td>\n",
       "      <td>A</td>\n",
       "    </tr>\n",
       "  </tbody>\n",
       "</table>\n",
       "</div>"
      ],
      "text/plain": [
       "         date   open   high    low  close   volume Name\n",
       "0  2013-02-08  45.07  45.35  45.00  45.08  1824755    A\n",
       "1  2013-02-11  45.17  45.18  44.45  44.60  2915405    A\n",
       "2  2013-02-12  44.81  44.95  44.50  44.62  2373731    A\n",
       "3  2013-02-13  44.81  45.24  44.68  44.75  2052338    A\n",
       "4  2013-02-14  44.72  44.78  44.36  44.58  3826245    A"
      ]
     },
     "execution_count": 2,
     "metadata": {},
     "output_type": "execute_result"
    }
   ],
   "source": [
    "dataset = pd.read_csv(\"A_data.csv\")\n",
    "dataset.head()\n"
   ]
  },
  {
   "cell_type": "code",
   "execution_count": 3,
   "metadata": {},
   "outputs": [],
   "source": [
    "# setting the format of date month/date/year\n",
    "dataset['date'] = pd.to_datetime(dataset.date)\n"
   ]
  },
  {
   "cell_type": "code",
   "execution_count": 6,
   "metadata": {},
   "outputs": [
    {
     "data": {
      "text/plain": [
       "(1259, 7)"
      ]
     },
     "execution_count": 6,
     "metadata": {},
     "output_type": "execute_result"
    }
   ],
   "source": [
    "dataset.shape"
   ]
  },
  {
   "cell_type": "code",
   "execution_count": 7,
   "metadata": {},
   "outputs": [
    {
     "name": "stdout",
     "output_type": "stream",
     "text": [
      "<class 'pandas.core.frame.DataFrame'>\n",
      "RangeIndex: 1259 entries, 0 to 1258\n",
      "Data columns (total 7 columns):\n",
      " #   Column  Non-Null Count  Dtype         \n",
      "---  ------  --------------  -----         \n",
      " 0   date    1259 non-null   datetime64[ns]\n",
      " 1   open    1259 non-null   float64       \n",
      " 2   high    1259 non-null   float64       \n",
      " 3   low     1259 non-null   float64       \n",
      " 4   close   1259 non-null   float64       \n",
      " 5   volume  1259 non-null   int64         \n",
      " 6   Name    1259 non-null   object        \n",
      "dtypes: datetime64[ns](1), float64(4), int64(1), object(1)\n",
      "memory usage: 69.0+ KB\n"
     ]
    }
   ],
   "source": [
    "dataset.info()"
   ]
  },
  {
   "cell_type": "code",
   "execution_count": 10,
   "metadata": {},
   "outputs": [
    {
     "data": {
      "text/plain": [
       "date      0\n",
       "open      0\n",
       "high      0\n",
       "low       0\n",
       "close     0\n",
       "volume    0\n",
       "Name      0\n",
       "dtype: int64"
      ]
     },
     "execution_count": 10,
     "metadata": {},
     "output_type": "execute_result"
    }
   ],
   "source": [
    "dataset.isnull().sum()"
   ]
  },
  {
   "cell_type": "code",
   "execution_count": 18,
   "metadata": {},
   "outputs": [],
   "source": [
    "dataset2=dataset.drop(['date','Name'],axis=1)"
   ]
  },
  {
   "cell_type": "code",
   "execution_count": 19,
   "metadata": {},
   "outputs": [
    {
     "data": {
      "text/html": [
       "<div>\n",
       "<style scoped>\n",
       "    .dataframe tbody tr th:only-of-type {\n",
       "        vertical-align: middle;\n",
       "    }\n",
       "\n",
       "    .dataframe tbody tr th {\n",
       "        vertical-align: top;\n",
       "    }\n",
       "\n",
       "    .dataframe thead th {\n",
       "        text-align: right;\n",
       "    }\n",
       "</style>\n",
       "<table border=\"1\" class=\"dataframe\">\n",
       "  <thead>\n",
       "    <tr style=\"text-align: right;\">\n",
       "      <th></th>\n",
       "      <th>open</th>\n",
       "      <th>high</th>\n",
       "      <th>low</th>\n",
       "      <th>close</th>\n",
       "      <th>volume</th>\n",
       "    </tr>\n",
       "  </thead>\n",
       "  <tbody>\n",
       "    <tr>\n",
       "      <th>0</th>\n",
       "      <td>45.07</td>\n",
       "      <td>45.35</td>\n",
       "      <td>45.00</td>\n",
       "      <td>45.08</td>\n",
       "      <td>1824755</td>\n",
       "    </tr>\n",
       "    <tr>\n",
       "      <th>1</th>\n",
       "      <td>45.17</td>\n",
       "      <td>45.18</td>\n",
       "      <td>44.45</td>\n",
       "      <td>44.60</td>\n",
       "      <td>2915405</td>\n",
       "    </tr>\n",
       "    <tr>\n",
       "      <th>2</th>\n",
       "      <td>44.81</td>\n",
       "      <td>44.95</td>\n",
       "      <td>44.50</td>\n",
       "      <td>44.62</td>\n",
       "      <td>2373731</td>\n",
       "    </tr>\n",
       "    <tr>\n",
       "      <th>3</th>\n",
       "      <td>44.81</td>\n",
       "      <td>45.24</td>\n",
       "      <td>44.68</td>\n",
       "      <td>44.75</td>\n",
       "      <td>2052338</td>\n",
       "    </tr>\n",
       "    <tr>\n",
       "      <th>4</th>\n",
       "      <td>44.72</td>\n",
       "      <td>44.78</td>\n",
       "      <td>44.36</td>\n",
       "      <td>44.58</td>\n",
       "      <td>3826245</td>\n",
       "    </tr>\n",
       "  </tbody>\n",
       "</table>\n",
       "</div>"
      ],
      "text/plain": [
       "    open   high    low  close   volume\n",
       "0  45.07  45.35  45.00  45.08  1824755\n",
       "1  45.17  45.18  44.45  44.60  2915405\n",
       "2  44.81  44.95  44.50  44.62  2373731\n",
       "3  44.81  45.24  44.68  44.75  2052338\n",
       "4  44.72  44.78  44.36  44.58  3826245"
      ]
     },
     "execution_count": 19,
     "metadata": {},
     "output_type": "execute_result"
    }
   ],
   "source": [
    "dataset2.head()"
   ]
  },
  {
   "cell_type": "code",
   "execution_count": 22,
   "metadata": {},
   "outputs": [
    {
     "data": {
      "image/png": "[encoded data removed]",
      "text/plain": [
       "<Figure size 640x480 with 2 Axes>"
      ]
     },
     "metadata": {},
     "output_type": "display_data"
    }
   ],
   "source": [
    "import seaborn as sns \n",
    "hmt=sns.heatmap(dataset2.corr(),annot=True)"
   ]
  },
  {
   "cell_type": "code",
   "execution_count": 23,
   "metadata": {},
   "outputs": [],
   "source": [
    "x = dataset2[['open', 'high', 'low', 'volume']]\n",
    "y = dataset2['close']"
   ]
  },
  {
   "cell_type": "code",
   "execution_count": 24,
   "metadata": {},
   "outputs": [],
   "source": [
    "from sklearn.model_selection import train_test_split\n",
    "X_train , X_test , y_train , y_test = train_test_split(x ,y , random_state = 0)"
   ]
  },
  {
   "cell_type": "code",
   "execution_count": 25,
   "metadata": {},
   "outputs": [
    {
     "name": "stdout",
     "output_type": "stream",
     "text": [
      "(944, 4)\n",
      "(315, 4)\n"
     ]
    }
   ],
   "source": [
    "\n",
    "print(X_train.shape)\n",
    "print(X_test.shape)"
   ]
  },
  {
   "cell_type": "code",
   "execution_count": 28,
   "metadata": {},
   "outputs": [
    {
     "name": "stdout",
     "output_type": "stream",
     "text": [
      "0.07732344883214637\n",
      "[-6.29123466e-01  8.31589919e-01  7.96950545e-01 -2.22466661e-08]\n",
      "[42.82577933 39.07860433 42.91057321 48.37157782 51.11354989 43.05755234\n",
      " 55.91417365 41.75811563 57.92355231 42.54381496 39.82841701 39.72948685\n",
      " 48.04531184 41.83431556 37.32322712 44.89646382 47.20482219 65.95786665\n",
      " 44.02538922 74.15581338 45.192882   46.16782384 40.78498108 38.95099991\n",
      " 65.99435262 55.13777352 45.51465117 52.61969463 42.75538981 40.50214686\n",
      " 51.28824442 41.15817757 58.90998937 43.1588094  47.00136381 40.991382\n",
      " 41.80278999 38.69492302 39.55740447 54.50335271 58.89221125 39.06433417\n",
      " 51.72585965 68.11062403 47.02343391 44.59064277 39.69384355 40.81747082\n",
      " 46.57019163 35.36516833 44.1786557  59.62213545 63.84927413 41.35981431\n",
      " 36.36535303 59.00931807 42.11871724 61.14663069 41.47625354 49.14677346\n",
      " 54.94415944 40.05991356 58.80972406 41.87216636 57.90147173 47.07143865\n",
      " 45.52316799 41.76767429 53.03430661 59.94650862 51.74865864 50.74715498\n",
      " 44.47339805 41.47123253 47.10721228 40.95892822 35.85243114 56.83230569\n",
      " 55.33115255 48.03278049 60.10966215 54.99602164 54.59284526 45.5266606\n",
      " 38.38702636 41.81361672 55.27212305 40.9250216  47.50116452 55.08810455\n",
      " 69.40963081 39.06791118 44.60520627 47.24793576 53.08901461 59.39959615\n",
      " 51.01069331 40.21850017 57.47573783 58.2146358  38.32282899 59.99311807\n",
      " 38.46457849 53.76842156 40.692942   35.97932135 40.02142405 36.83051044\n",
      " 58.37391726 45.79541631 42.41338566 40.81434147 46.11946618 38.01063585\n",
      " 40.45099112 46.16032928 71.80090706 41.43496709 54.94214124 43.61916588\n",
      " 42.9117536  41.31441171 46.39146502 50.51517032 53.03087483 51.30050171\n",
      " 58.6186854  48.67056318 41.58282325 34.91822155 69.40963081 58.39054988\n",
      " 56.5550078  47.03260174 55.33975268 40.80103847 73.85229424 55.1918581\n",
      " 46.95312428 39.53584865 39.84830675 45.53421522 41.4898207  53.88683365\n",
      " 41.0747198  66.4763985  55.6874274  56.2131425  39.73278153 42.01768069\n",
      " 67.38511536 46.60743011 57.45113415 37.36611564 61.46258929 36.11910826\n",
      " 42.17959594 36.03388189 57.95260192 68.5223382  45.36382045 40.23355799\n",
      " 40.87902571 52.61609304 47.67856463 41.7854346  39.72130234 70.08228476\n",
      " 43.91373256 48.17046256 58.16495213 40.9666551  46.40736853 53.33554303\n",
      " 43.28755744 38.9751116  53.14890329 41.11989869 67.35844354 46.24949149\n",
      " 53.12289869 42.49322229 56.90001329 56.74900815 57.75400154 38.45286531\n",
      " 58.88644848 40.9765879  45.41441899 39.57808974 36.1422942  60.35727021\n",
      " 54.83360862 67.66327057 36.64295436 41.66380647 37.93868188 66.59041241\n",
      " 56.20966186 59.69933742 40.4683621  40.16068583 56.40903514 56.81470227\n",
      " 57.30631775 43.81248429 52.05358221 43.17295764 46.70698278 52.08144572\n",
      " 64.59519124 53.40853526 57.8020462  39.4635048  54.31072326 53.66554524\n",
      " 67.11803401 42.08216925 67.12654591 53.8316944  42.65159757 39.78997631\n",
      " 61.31394559 41.20951167 41.69180485 59.03205179 46.97865681 52.8022421\n",
      " 40.4929642  39.44457859 55.3774439  44.80729925 73.2138413  47.73307165\n",
      " 53.90199528 47.55057021 74.01875589 48.7391778  46.73800178 42.13663169\n",
      " 42.06167477 41.53274354 37.48101162 46.80313108 40.66183707 69.26415759\n",
      " 39.57193141 59.35674763 41.68278074 57.17793632 42.92949728 36.24403112\n",
      " 51.68198195 54.16351759 42.60665103 50.77787059 43.83186923 39.02893898\n",
      " 60.46301228 53.51230436 67.38175216 40.32488263 54.92149654 54.88930906\n",
      " 67.20434712 39.49955241 67.2047792  59.28404435 41.56896849 57.91977182\n",
      " 42.02456874 46.4554888  60.47368443 41.92309077 56.32052632 65.66244764\n",
      " 50.45548426 53.04771761 51.08225762 48.11168666 44.66615267 47.96381801\n",
      " 42.12245426 37.19505393 54.62290384 54.95509804 67.24544269 42.14739613\n",
      " 34.749145   38.29851454 42.3561005  45.60580257 39.09124433 46.54703725\n",
      " 35.87843697 58.24555421 38.03024661 47.48793743 36.57207618 46.73579119\n",
      " 47.0295419  57.17862722 37.39570183 57.31960994 42.10057632 57.76799645\n",
      " 36.67390914 67.51797912 46.01845737 48.20099436 52.96916308 50.69176932\n",
      " 37.10815835 42.50992673 46.45166827]\n"
     ]
    }
   ],
   "source": [
    "from sklearn.linear_model import LinearRegression\n",
    "lr=LinearRegression()\n",
    "lr.fit(X_train,y_train)\n",
    "print(lr.intercept_)\n",
    "print(lr.coef_)\n",
    "y_pred=lr.predict(X_test)\n",
    "print(y_pred)"
   ]
  },
  {
   "cell_type": "code",
   "execution_count": 29,
   "metadata": {},
   "outputs": [],
   "source": [
    "dframe=pd.DataFrame({'Actual':y_test,'Predicted':y_pred})"
   ]
  },
  {
   "cell_type": "code",
   "execution_count": 31,
   "metadata": {},
   "outputs": [
    {
     "data": {
      "text/html": [
       "<div>\n",
       "<style scoped>\n",
       "    .dataframe tbody tr th:only-of-type {\n",
       "        vertical-align: middle;\n",
       "    }\n",
       "\n",
       "    .dataframe tbody tr th {\n",
       "        vertical-align: top;\n",
       "    }\n",
       "\n",
       "    .dataframe thead th {\n",
       "        text-align: right;\n",
       "    }\n",
       "</style>\n",
       "<table border=\"1\" class=\"dataframe\">\n",
       "  <thead>\n",
       "    <tr style=\"text-align: right;\">\n",
       "      <th></th>\n",
       "      <th>Actual</th>\n",
       "      <th>Predicted</th>\n",
       "    </tr>\n",
       "  </thead>\n",
       "  <tbody>\n",
       "    <tr>\n",
       "      <th>5</th>\n",
       "      <td>42.25</td>\n",
       "      <td>42.825779</td>\n",
       "    </tr>\n",
       "    <tr>\n",
       "      <th>494</th>\n",
       "      <td>38.75</td>\n",
       "      <td>39.078604</td>\n",
       "    </tr>\n",
       "    <tr>\n",
       "      <th>52</th>\n",
       "      <td>42.73</td>\n",
       "      <td>42.910573</td>\n",
       "    </tr>\n",
       "    <tr>\n",
       "      <th>986</th>\n",
       "      <td>48.14</td>\n",
       "      <td>48.371578</td>\n",
       "    </tr>\n",
       "    <tr>\n",
       "      <th>186</th>\n",
       "      <td>51.21</td>\n",
       "      <td>51.113550</td>\n",
       "    </tr>\n",
       "    <tr>\n",
       "      <th>...</th>\n",
       "      <td>...</td>\n",
       "      <td>...</td>\n",
       "    </tr>\n",
       "    <tr>\n",
       "      <th>1056</th>\n",
       "      <td>53.13</td>\n",
       "      <td>52.969163</td>\n",
       "    </tr>\n",
       "    <tr>\n",
       "      <th>1010</th>\n",
       "      <td>50.52</td>\n",
       "      <td>50.691769</td>\n",
       "    </tr>\n",
       "    <tr>\n",
       "      <th>737</th>\n",
       "      <td>36.86</td>\n",
       "      <td>37.108158</td>\n",
       "    </tr>\n",
       "    <tr>\n",
       "      <th>459</th>\n",
       "      <td>42.27</td>\n",
       "      <td>42.509927</td>\n",
       "    </tr>\n",
       "    <tr>\n",
       "      <th>969</th>\n",
       "      <td>46.39</td>\n",
       "      <td>46.451668</td>\n",
       "    </tr>\n",
       "  </tbody>\n",
       "</table>\n",
       "<p>315 rows × 2 columns</p>\n",
       "</div>"
      ],
      "text/plain": [
       "      Actual  Predicted\n",
       "5      42.25  42.825779\n",
       "494    38.75  39.078604\n",
       "52     42.73  42.910573\n",
       "986    48.14  48.371578\n",
       "186    51.21  51.113550\n",
       "...      ...        ...\n",
       "1056   53.13  52.969163\n",
       "1010   50.52  50.691769\n",
       "737    36.86  37.108158\n",
       "459    42.27  42.509927\n",
       "969    46.39  46.451668\n",
       "\n",
       "[315 rows x 2 columns]"
      ]
     },
     "execution_count": 31,
     "metadata": {},
     "output_type": "execute_result"
    }
   ],
   "source": [
    "dframe"
   ]
  },
  {
   "cell_type": "code",
   "execution_count": 33,
   "metadata": {},
   "outputs": [
    {
     "data": {
      "text/plain": [
       "<Axes: >"
      ]
     },
     "execution_count": 33,
     "metadata": {},
     "output_type": "execute_result"
    },
    {
     "data": {
      "image/png": "[encoded data removed]",
      "text/plain": [
       "<Figure size 640x480 with 1 Axes>"
      ]
     },
     "metadata": {},
     "output_type": "display_data"
    }
   ],
   "source": [
    "graph=dframe.head(20)\n",
    "graph.plot.bar()"
   ]
  },
  {
   "cell_type": "code",
   "execution_count": null,
   "metadata": {},
   "outputs": [],
   "source": [
    "\n",
    "\n",
    "#acuracy score remainign"
   ]
  },
  {
   "cell_type": "code",
   "execution_count": null,
   "metadata": {},
   "outputs": [],
   "source": []
  }
 ],
 "metadata": {
  "kernelspec": {
   "display_name": "Python 3",
   "language": "python",
   "name": "python3"
  },
  "language_info": {
   "codemirror_mode": {
    "name": "ipython",
    "version": 3
   },
   "file_extension": ".py",
   "mimetype": "text/x-python",
   "name": "python",
   "nbconvert_exporter": "python",
   "pygments_lexer": "ipython3",
   "version": "3.12.0"
  }
 },
 "nbformat": 4,
 "nbformat_minor": 2
}
